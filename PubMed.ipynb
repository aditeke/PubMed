{
  "nbformat": 4,
  "nbformat_minor": 0,
  "metadata": {
    "colab": {
      "provenance": []
    },
    "kernelspec": {
      "name": "python3",
      "display_name": "Python 3"
    },
    "language_info": {
      "name": "python"
    }
  },
  "cells": [
    {
      "cell_type": "markdown",
      "source": [
        "**Implementation: PubMed Research Paper Fetcher**"
      ],
      "metadata": {
        "id": "4plMJQ1PiLt-"
      }
    },
    {
      "cell_type": "code",
      "source": [
        "#Import Libraries\n",
        "import csv\n",
        "import logging\n",
        "import re\n",
        "import time\n",
        "from typing import Dict, List, Optional, Tuple\n",
        "\n",
        "import requests\n",
        "from lxml import etree\n",
        "from tqdm import tqdm"
      ],
      "metadata": {
        "id": "Uic_4UbX4l2_"
      },
      "execution_count": 19,
      "outputs": []
    },
    {
      "cell_type": "code",
      "source": [
        "# Configure logging\n",
        "logging.basicConfig(level=logging.INFO, format=\"%(levelname)s: %(message)s\")\n",
        "logger = logging.getLogger(__name__)"
      ],
      "metadata": {
        "id": "Xyd2D4CZ4o0I"
      },
      "execution_count": 20,
      "outputs": []
    },
    {
      "cell_type": "code",
      "source": [
        "# Constants\n",
        "PUBMED_API_BASE_URL = \"https://eutils.ncbi.nlm.nih.gov/entrez/eutils/\"\n",
        "EMAIL_REGEX = r\"[a-zA-Z0-9_.+-]+@[a-zA-Z0-9-]+\\.[a-zA-Z0-9-.]+\"\n",
        "COMPANY_KEYWORDS = [\n",
        "    \"pharmaceutical\",\n",
        "    \"corp\",\n",
        "    \"inc\",\n",
        "    \"ltd\",\n",
        "    \"corp\",\n",
        "    \"gmbh\",\n",
        "    \"biotech\",\n",
        "    \"bv\",\n",
        "    \"ag\",\n",
        "]\n",
        "DELAY_SECONDS = 0.5  # Initial delay\n",
        "MAX_RETRIES = 3\n",
        "BATCH_SIZE = 10  # Number of PubMed IDs to fetch in a batch"
      ],
      "metadata": {
        "id": "ItQceIX04rj7"
      },
      "execution_count": 21,
      "outputs": []
    },
    {
      "cell_type": "code",
      "source": [
        "#Define fetch_pubmed_ids Function\n",
        "def fetch_pubmed_ids(query: str, debug: bool = False) -> List[str]:\n",
        "    params = {\n",
        "        \"db\": \"pubmed\",\n",
        "        \"term\": query,\n",
        "        \"retmode\": \"xml\",\n",
        "        \"retmax\": 500,\n",
        "        \"rettype\": \"uilist\",\n",
        "    }\n",
        "    response = requests.get(f\"{PUBMED_API_BASE_URL}esearch.fcgi\", params=params)\n",
        "    if debug:\n",
        "        logger.debug(f\"Search API Response: {response.content}\")\n",
        "    response.raise_for_status()\n",
        "    root = etree.fromstring(response.content)\n",
        "    ids = [element.text for element in root.xpath(\"//Id\")]\n",
        "    return ids\n"
      ],
      "metadata": {
        "id": "2osqq3K74y90"
      },
      "execution_count": 22,
      "outputs": []
    },
    {
      "cell_type": "code",
      "source": [
        "#Define fetch_paper_details_batch Function\n",
        "def fetch_paper_details_batch(pubmed_ids: List[str], debug: bool = False) -> List[Optional[Dict[str, Optional[str]]]]:\n",
        "    \"\"\"Fetches details of a batch of papers.\"\"\"\n",
        "    retries = 0\n",
        "    while retries < MAX_RETRIES:\n",
        "        try:\n",
        "            params = {\n",
        "                \"db\": \"pubmed\",\n",
        "                \"id\": \",\".join(pubmed_ids),\n",
        "                \"retmode\": \"xml\",\n",
        "                \"rettype\": \"full\",\n",
        "            }\n",
        "            response = requests.get(\n",
        "                f\"{PUBMED_API_BASE_URL}efetch.fcgi\", params=params\n",
        "            )\n",
        "            response.raise_for_status()\n",
        "            root = etree.fromstring(response.content)\n",
        "            paper_details = []\n",
        "            for article in root.xpath(\"//PubmedArticle\"):\n",
        "                try:\n",
        "                    pubmed_id = article.xpath(\".//PMID/text()\")[0]\n",
        "                    title = article.xpath(\".//ArticleTitle/text()\")[0]\n",
        "                    pub_date = \"/\".join(article.xpath(\".//PubDate/Year/text() | .//PubDate/Month/text() | .//PubDate/Day/text()\"))\n",
        "                    authors = article.xpath(\".//AuthorList/Author\")\n",
        "                    affiliation_map: Dict[str, List[str]] = {}\n",
        "                    for author in authors:\n",
        "                        name_parts = author.xpath(\".//LastName/text() | .//ForeName/text()\")\n",
        "                        if not name_parts:\n",
        "                            continue\n",
        "                        name = \" \".join(name_parts)\n",
        "                        affiliations = author.xpath(\".//AffiliationInfo/Affiliation/text()\")\n",
        "                        affiliation_map[name] = affiliations\n",
        "                    non_academic_authors, company_affiliations = identify_non_academic_authors(affiliation_map)\n",
        "                    corresponding_author_email = find_corresponding_author_email(article, affiliation_map)\n",
        "                    paper_details.append({\n",
        "                        \"PubmedID\": pubmed_id,\n",
        "                        \"Title\": title,\n",
        "                        \"Publication Date\": pub_date,\n",
        "                        \"Non-academic Author(s)\": \", \".join(non_academic_authors),\n",
        "                        \"Company Affiliation(s)\": \", \".join(company_affiliations),\n",
        "                        \"Corresponding Author Email\": corresponding_author_email,\n",
        "                    })\n",
        "                except IndexError as e:\n",
        "                    logger.warning(f\"Could not parse article: {e}\")\n",
        "                    paper_details.append(None)\n",
        "\n",
        "            return paper_details\n",
        "        except requests.exceptions.HTTPError as e:\n",
        "            if e.response.status_code == 429:\n",
        "                retries += 1\n",
        "                delay = DELAY_SECONDS * (2**retries)\n",
        "                logger.warning(f\"Too Many Requests. Retrying in {delay} seconds...\")\n",
        "                time.sleep(delay)\n",
        "            else:\n",
        "                logger.warning(f\"HTTP Error fetching batch: {e}\")\n",
        "                return [None] * len(pubmed_ids)\n",
        "        except Exception as e:\n",
        "            logger.warning(f\"Error fetching batch: {e}\")\n",
        "            return [None] * len(pubmed_ids)\n",
        "    logger.error(f\"Failed to fetch batch after {MAX_RETRIES} retries.\")\n",
        "    return [None] * len(pubmed_ids)"
      ],
      "metadata": {
        "id": "nsfh8N50432F"
      },
      "execution_count": 23,
      "outputs": []
    },
    {
      "cell_type": "code",
      "source": [
        "#Define identify_non_academic_authors\n",
        "def identify_non_academic_authors(affiliation_map: Dict[str, List[str]]) -> Tuple[List[str], List[str]]:\n",
        "    non_academic_authors = []\n",
        "    company_affiliations = []\n",
        "    for author, affiliations in affiliation_map.items():\n",
        "        for affiliation in affiliations:\n",
        "            if any(keyword in affiliation.lower() for keyword in COMPANY_KEYWORDS):\n",
        "                non_academic_authors.append(author)\n",
        "                company_affiliations.append(affiliation)\n",
        "                break\n",
        "    return non_academic_authors, company_affiliations"
      ],
      "metadata": {
        "id": "BiyNIDN14477"
      },
      "execution_count": 24,
      "outputs": []
    },
    {
      "cell_type": "code",
      "source": [
        "#Find_corresponding_author_email Functions\n",
        "def find_corresponding_author_email(root: etree.Element, affiliation_map: Dict[str, List[str]]) -> Optional[str]:\n",
        "    emails = []\n",
        "    for author in root.xpath(\"//AuthorList/Author\"):\n",
        "        if author.xpath(\".//AffiliationInfo/Affiliation/text()\"):\n",
        "            for affil in author.xpath(\".//AffiliationInfo/Affiliation/text()\"):\n",
        "                emails.extend(re.findall(EMAIL_REGEX, affil))\n",
        "    if emails:\n",
        "        return emails[0]\n",
        "    return None"
      ],
      "metadata": {
        "id": "cGHXT5-I48dz"
      },
      "execution_count": 25,
      "outputs": []
    },
    {
      "cell_type": "code",
      "source": [
        "#Define run_pubmed_query Function and Execute\n",
        "def run_pubmed_query(query: str, output_file: str = \"pubmed_results.csv\", debug: bool = False):\n",
        "    pubmed_ids = fetch_pubmed_ids(query, debug)\n",
        "    total_ids = len(pubmed_ids)\n",
        "    results = []\n",
        "    start_time = time.time()\n",
        "\n",
        "    with tqdm(total=total_ids, desc=\"Processing papers\") as pbar:\n",
        "        for i in range(0, total_ids, BATCH_SIZE):\n",
        "            batch = pubmed_ids[i:i + BATCH_SIZE]\n",
        "            paper_details_batch = fetch_paper_details_batch(batch, debug)\n",
        "            for paper_details in paper_details_batch:\n",
        "                if paper_details:\n",
        "                    results.append(paper_details)\n",
        "            time.sleep(DELAY_SECONDS)\n",
        "            pbar.update(len(batch))\n",
        "\n",
        "    end_time = time.time()\n",
        "    elapsed_time = end_time - start_time\n",
        "    logger.info(f\"Processing completed in {elapsed_time:.2f} seconds.\")\n",
        "\n",
        "    with open(output_file, \"w\", newline=\"\", encoding=\"utf-8\") as csvfile:\n",
        "        fieldnames = [\n",
        "            \"PubmedID\",\n",
        "            \"Title\",\n",
        "            \"Publication Date\",\n",
        "            \"Non-academic Author(s)\",\n",
        "            \"Company Affiliation(s)\",\n",
        "            \"Corresponding Author Email\",\n",
        "        ]\n",
        "        writer = csv.DictWriter(csvfile, fieldnames=fieldnames)\n",
        "        writer.writeheader()\n",
        "        for row in results:\n",
        "            writer.writerow(row)\n",
        "    logger.info(f\"Results saved to {output_file}\")\n",
        "    return output_file\n",
        "\n",
        "if __name__ == \"__main__\":\n",
        "    query = \"cancer immunotherapy\"\n",
        "    output_file = \"pubmed_results.csv\"\n",
        "    debug = False\n",
        "    run_pubmed_query(query, output_file, debug)\n",
        "    print(f\"Results saved to {output_file}\")\n",
        "    from google.colab import files\n",
        "    files.download(output_file)"
      ],
      "metadata": {
        "colab": {
          "base_uri": "https://localhost:8080/",
          "height": 52
        },
        "collapsed": true,
        "id": "bflHyRTT4_e9",
        "outputId": "1c0e29ac-e4a5-4b23-ac88-87b13870e7af"
      },
      "execution_count": 26,
      "outputs": [
        {
          "output_type": "stream",
          "name": "stderr",
          "text": [
            "Processing papers: 100%|██████████| 500/500 [00:55<00:00,  9.00it/s]"
          ]
        },
        {
          "output_type": "stream",
          "name": "stdout",
          "text": [
            "Results saved to pubmed_results.csv\n"
          ]
        },
        {
          "output_type": "stream",
          "name": "stderr",
          "text": [
            "\n"
          ]
        },
        {
          "output_type": "display_data",
          "data": {
            "text/plain": [
              "<IPython.core.display.Javascript object>"
            ],
            "application/javascript": [
              "\n",
              "    async function download(id, filename, size) {\n",
              "      if (!google.colab.kernel.accessAllowed) {\n",
              "        return;\n",
              "      }\n",
              "      const div = document.createElement('div');\n",
              "      const label = document.createElement('label');\n",
              "      label.textContent = `Downloading \"${filename}\": `;\n",
              "      div.appendChild(label);\n",
              "      const progress = document.createElement('progress');\n",
              "      progress.max = size;\n",
              "      div.appendChild(progress);\n",
              "      document.body.appendChild(div);\n",
              "\n",
              "      const buffers = [];\n",
              "      let downloaded = 0;\n",
              "\n",
              "      const channel = await google.colab.kernel.comms.open(id);\n",
              "      // Send a message to notify the kernel that we're ready.\n",
              "      channel.send({})\n",
              "\n",
              "      for await (const message of channel.messages) {\n",
              "        // Send a message to notify the kernel that we're ready.\n",
              "        channel.send({})\n",
              "        if (message.buffers) {\n",
              "          for (const buffer of message.buffers) {\n",
              "            buffers.push(buffer);\n",
              "            downloaded += buffer.byteLength;\n",
              "            progress.value = downloaded;\n",
              "          }\n",
              "        }\n",
              "      }\n",
              "      const blob = new Blob(buffers, {type: 'application/binary'});\n",
              "      const a = document.createElement('a');\n",
              "      a.href = window.URL.createObjectURL(blob);\n",
              "      a.download = filename;\n",
              "      div.appendChild(a);\n",
              "      a.click();\n",
              "      div.remove();\n",
              "    }\n",
              "  "
            ]
          },
          "metadata": {}
        },
        {
          "output_type": "display_data",
          "data": {
            "text/plain": [
              "<IPython.core.display.Javascript object>"
            ],
            "application/javascript": [
              "download(\"download_c987f01a-333e-4d14-8222-85df4698b3ef\", \"pubmed_results.csv\", 219823)"
            ]
          },
          "metadata": {}
        }
      ]
    }
  ]
}